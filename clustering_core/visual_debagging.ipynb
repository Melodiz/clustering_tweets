{
 "cells": [
  {
   "cell_type": "code",
   "execution_count": null,
   "metadata": {},
   "outputs": [],
   "source": [
    "import pandas as pd \n",
    "import numpy as np\n",
    "import plotly.express as px"
   ]
  },
  {
   "cell_type": "code",
   "execution_count": null,
   "metadata": {},
   "outputs": [],
   "source": [
    "result_path = \"../data/clustered_points.csv\"\n",
    "row_data = \"../data/t-SNE_projected.csv\"\n",
    "centoids_path = \"../data/centroids.csv\"\n",
    "cl_data = pd.read_csv(result_path)\n",
    "row_data = pd.read_csv(row_data)\n",
    "centoids = pd.read_csv(centoids_path)\n"
   ]
  },
  {
   "cell_type": "code",
   "execution_count": null,
   "metadata": {},
   "outputs": [],
   "source": [
    "def name_clusters(numeric_value):\n",
    "    alfabetic = ['A', 'B', 'C', 'D', 'E', 'F', 'G', 'H', 'I',\n",
    "                    'J', 'K', 'L', 'M', 'N', 'O', 'P', 'Q', 'R',\n",
    "                    'S', 'T', 'U', 'V', 'W', 'X', 'Y', 'Z']\n",
    "    ans = ''\n",
    "    while (numeric_value!= 0):\n",
    "        ans += alfabetic[numeric_value % 26]\n",
    "        numeric_value //= 26\n",
    "    return ans[::-1]\n",
    "\n",
    "cl_data['cluster'] = cl_data['cluster'].apply(name_clusters)"
   ]
  },
  {
   "cell_type": "code",
   "execution_count": null,
   "metadata": {},
   "outputs": [],
   "source": [
    "fig_points = px.scatter(cl_data, x=\"x\", y=\"y\", \n",
    "                        color=\"cluster\", \n",
    "                        template= 'plotly_dark', \n",
    "                        title = \"Clustered points from scratch\", \n",
    "                        height=800)\n",
    "fig_points.show()\n"
   ]
  }
 ],
 "metadata": {
  "kernelspec": {
   "display_name": "env",
   "language": "python",
   "name": "python3"
  },
  "language_info": {
   "codemirror_mode": {
    "name": "ipython",
    "version": 3
   },
   "file_extension": ".py",
   "mimetype": "text/x-python",
   "name": "python",
   "nbconvert_exporter": "python",
   "pygments_lexer": "ipython3",
   "version": "3.12.3"
  }
 },
 "nbformat": 4,
 "nbformat_minor": 2
}
