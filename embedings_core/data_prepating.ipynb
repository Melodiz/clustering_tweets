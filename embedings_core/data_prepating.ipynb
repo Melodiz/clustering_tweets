{
 "cells": [
  {
   "cell_type": "code",
   "execution_count": 2,
   "metadata": {},
   "outputs": [],
   "source": [
    "import pandas as pd\n",
    "import numpy as np\n",
    "import transformer as tr"
   ]
  },
  {
   "cell_type": "code",
   "execution_count": 3,
   "metadata": {},
   "outputs": [
    {
     "name": "stdout",
     "output_type": "stream",
     "text": [
      "(10000, 384)\n"
     ]
    }
   ],
   "source": [
    "emb_file_path = \"../data/train_embeddings.npy\"\n",
    "comments_file_path = \"data/reddit_comments_train.csv\"\n",
    "out_put_file = \"../data/ebedded_comments_train.csv\"\n",
    "df = pd.read_csv(comments_file_path)\n",
    "emb = np.load(emb_file_path)\n",
    "print(emb.shape)"
   ]
  },
  {
   "cell_type": "code",
   "execution_count": 23,
   "metadata": {},
   "outputs": [],
   "source": [
    "resust = {'body': df['body'].to_list(), 'emb': list(emb)}\n",
    "out_df = pd.DataFrame(data = resust, index = df['id'].to_list())\n",
    "out_df\n",
    "out_df.to_csv(out_put_file, index=False)"
   ]
  }
 ],
 "metadata": {
  "kernelspec": {
   "display_name": "base",
   "language": "python",
   "name": "python3"
  },
  "language_info": {
   "codemirror_mode": {
    "name": "ipython",
    "version": 3
   },
   "file_extension": ".py",
   "mimetype": "text/x-python",
   "name": "python",
   "nbconvert_exporter": "python",
   "pygments_lexer": "ipython3",
   "version": "3.12.3"
  }
 },
 "nbformat": 4,
 "nbformat_minor": 2
}
