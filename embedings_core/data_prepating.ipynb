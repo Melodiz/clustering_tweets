{
 "cells": [
  {
   "cell_type": "code",
   "execution_count": 43,
   "metadata": {},
   "outputs": [],
   "source": [
    "import pandas as pd\n",
    "import numpy as np\n",
    "import transformer as tr"
   ]
  },
  {
   "cell_type": "code",
   "execution_count": 44,
   "metadata": {},
   "outputs": [],
   "source": [
    "emb_file_path = \"../data/train_embeddings.npy\"  #row embeddings\n",
    "comments_file_path = \"../data/reddit_comments_train.csv\" # row dataframe with comments\n",
    "clusteer_file_path = \"../data/train_embeddings_clusters.csv\" # clustered embeddings\n",
    "out_put_file = \"../data/train_merged.csv\"\n",
    "reddit_df = pd.read_csv(comments_file_path)\n",
    "embeddings = np.load(emb_file_path)\n",
    "cluster_df = pd.read_csv(clusteer_file_path)"
   ]
  },
  {
   "cell_type": "code",
   "execution_count": 45,
   "metadata": {},
   "outputs": [],
   "source": [
    "result= {\n",
    "    'id':cluster_df['id'].to_list(),\n",
    "    # 'embedding': list(embeddings),\n",
    "    'cluster': cluster_df['cluster'].to_list(),\n",
    "    'distence': cluster_df['distance'].to_list(), \n",
    "    'body': reddit_df['body'].to_list()}\n",
    "\n",
    "result_df = pd.DataFrame(result)"
   ]
  },
  {
   "cell_type": "code",
   "execution_count": 46,
   "metadata": {},
   "outputs": [],
   "source": [
    "result_df.to_csv(out_put_file, index=False)"
   ]
  },
  {
   "cell_type": "code",
   "execution_count": 50,
   "metadata": {},
   "outputs": [
    {
     "name": "stdout",
     "output_type": "stream",
     "text": [
      "Index(['type', 'id', 'subreddit.id', 'subreddit.name', 'subreddit.nsfw',\n",
      "       'created_utc', 'permalink', 'body', 'sentiment', 'score'],\n",
      "      dtype='object')\n"
     ]
    }
   ],
   "source": [
    "print(reddit_df.columns)"
   ]
  }
 ],
 "metadata": {
  "kernelspec": {
   "display_name": "base",
   "language": "python",
   "name": "python3"
  },
  "language_info": {
   "codemirror_mode": {
    "name": "ipython",
    "version": 3
   },
   "file_extension": ".py",
   "mimetype": "text/x-python",
   "name": "python",
   "nbconvert_exporter": "python",
   "pygments_lexer": "ipython3",
   "version": "3.12.3"
  }
 },
 "nbformat": 4,
 "nbformat_minor": 2
}
