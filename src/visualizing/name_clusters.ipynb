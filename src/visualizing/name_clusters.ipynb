{
 "cells": [
  {
   "cell_type": "code",
   "execution_count": null,
   "metadata": {},
   "outputs": [],
   "source": [
    "import pandas as pd\n",
    "import numpy as np\n",
    "import plotly.express as px\n",
    "import json"
   ]
  },
  {
   "cell_type": "code",
   "execution_count": null,
   "metadata": {},
   "outputs": [],
   "source": [
    "centroidsPath = \"../../data/rowCentroids.csv\"\n",
    "clusterIdsPath = \"../../data/rowClustered.csv\"\n",
    "pointsCoordinatesPath = \"../../data/t-SNE_projected.csv\"\n",
    "row_text_path = \"../../data/big_data/the-reddit-climate-change-dataset-comments.csv\""
   ]
  },
  {
   "cell_type": "code",
   "execution_count": null,
   "metadata": {},
   "outputs": [],
   "source": [
    "clusterIds = pd.read_csv(clusterIdsPath)\n",
    "pointsCoordinates = pd.read_csv(pointsCoordinatesPath)\n",
    "# read only first 500_000 rows of row_text.csv\n",
    "Bodys = pd.read_csv(row_text_path, nrows=500_000)['body']"
   ]
  },
  {
   "cell_type": "code",
   "execution_count": null,
   "metadata": {},
   "outputs": [],
   "source": [
    "result = pd.concat([clusterIds, pointsCoordinates], axis=1).drop(['Unnamed: 0'], axis=1)\n",
    "result['body'] = Bodys"
   ]
  },
  {
   "cell_type": "code",
   "execution_count": null,
   "metadata": {},
   "outputs": [],
   "source": [
    "result"
   ]
  },
  {
   "cell_type": "code",
   "execution_count": null,
   "metadata": {},
   "outputs": [],
   "source": [
    "outputPath = \"output.txt\"\n",
    "file = open(outputPath, \"a\")\n",
    "for k in range(25):\n",
    "    NthCluster = result.loc[result['cluster_id'] == k]\n",
    "    #take first 200 rows\n",
    "    NthCluster = NthCluster.head(10)['body'].to_list()\n",
    "    # SAVE TO FILE\n",
    "    file.write(\"Cluster \" + str(k))\n",
    "    file.write(\"\\n\")\n",
    "    for i in NthCluster:\n",
    "        file.write(i)\n",
    "        file.write(\"\\n\")\n",
    "\n",
    "file.close()"
   ]
  }
 ],
 "metadata": {
  "kernelspec": {
   "display_name": "env",
   "language": "python",
   "name": "python3"
  },
  "language_info": {
   "codemirror_mode": {
    "name": "ipython",
    "version": 3
   },
   "file_extension": ".py",
   "mimetype": "text/x-python",
   "name": "python",
   "nbconvert_exporter": "python",
   "pygments_lexer": "ipython3",
   "version": "3.12.3"
  }
 },
 "nbformat": 4,
 "nbformat_minor": 2
}
