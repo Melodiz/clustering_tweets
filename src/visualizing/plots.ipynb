{
 "cells": [
  {
   "cell_type": "code",
   "execution_count": null,
   "metadata": {},
   "outputs": [],
   "source": [
    "import numpy as np\n",
    "import pandas as pd\n",
    "import plotly.express as px\n"
   ]
  },
  {
   "cell_type": "code",
   "execution_count": null,
   "metadata": {},
   "outputs": [],
   "source": [
    "result = pd.read_csv(\"../../data/result.csv\")"
   ]
  },
  {
   "cell_type": "code",
   "execution_count": null,
   "metadata": {},
   "outputs": [],
   "source": [
    "# 2021-10-26 13:03:06 -> 2021\n",
    "result['created_utc'] = result['created_utc'].apply(lambda x: x[0:4])"
   ]
  },
  {
   "cell_type": "code",
   "execution_count": null,
   "metadata": {},
   "outputs": [],
   "source": [
    "year = 2022\n",
    "# extract rows for each year from result to result_tmp\n",
    "result_tmp = result[result['created_utc'] == str(year)]\n",
    "fig = px.scatter(result_tmp, x='x', y = 'y', color='cluster_id', \n",
    "                hover_name='cluster_id', \n",
    "                title = f\"Clustered Reddit Comments on Climate Topics for {year}\",\n",
    "                template = \"plotly_dark\", width=1265, height=1012,\n",
    "                )\n",
    "fig.update_traces(marker=dict(size=2.5))\n",
    "fig.update_xaxes(showgrid=False, zeroline=False, showticklabels=False)\n",
    "fig.update_yaxes(showgrid=False, zeroline=False, showticklabels=False)\n",
    "fig.update_layout(xaxis_title=\"\", yaxis_title=\"\")\n",
    "fig.update_layout(\n",
    "    font=dict(family=\"MesloLGS NF, regular\",size=14,))# color=\"#b0aca7\"\n",
    "fig.update_layout(paper_bgcolor = 'rgba(15, 15, 16, 1)', plot_bgcolor = 'rgba(0, 0, 0, 1)')\n",
    "fig.update_layout(title_font_color=\"#c5f0b6\")\n",
    "fig.update_layout(title_font_size=23)\n",
    "fig.update_layout(legend_font_color=\"#b0aca7\")\n",
    "fig.show()\n",
    "fig.write_html(f\"../../data/year_maps/\" + str(year) + \".html\")"
   ]
  }
 ],
 "metadata": {
  "kernelspec": {
   "display_name": "env",
   "language": "python",
   "name": "python3"
  },
  "language_info": {
   "codemirror_mode": {
    "name": "ipython",
    "version": 3
   },
   "file_extension": ".py",
   "mimetype": "text/x-python",
   "name": "python",
   "nbconvert_exporter": "python",
   "pygments_lexer": "ipython3",
   "version": "3.12.3"
  }
 },
 "nbformat": 4,
 "nbformat_minor": 2
}
