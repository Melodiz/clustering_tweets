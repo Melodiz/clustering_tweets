{
 "cells": [
  {
   "cell_type": "code",
   "execution_count": null,
   "metadata": {},
   "outputs": [],
   "source": [
    "import numpy as np\n",
    "import pandas as pd\n",
    "import plotly.express as px\n",
    "from sklearn.cluster import KMeans"
   ]
  },
  {
   "cell_type": "code",
   "execution_count": null,
   "metadata": {},
   "outputs": [],
   "source": [
    "data_path = \"../data/clustered_points.csv\"\n",
    "embeddings_path = \"../data/t-SNE_projected.csv\"\n",
    "reddit_data_path = \"../data/reddit_comments_train.csv\"\n",
    "data = pd.read_csv(data_path)\n",
    "embeddings = pd.read_csv(embeddings_path)\n",
    "comments = pd.read_csv(reddit_data_path)['body']\n"
   ]
  },
  {
   "cell_type": "code",
   "execution_count": null,
   "metadata": {},
   "outputs": [],
   "source": [
    "def name_clusters(numeric_value):\n",
    "    alfabetic = ['A', 'B', 'C', 'D', 'E', 'F', 'G', 'H', 'I',\n",
    "                    'J', 'K', 'L', 'M', 'N', 'O', 'P', 'Q', 'R',\n",
    "                    'S', 'T', 'U', 'V', 'W', 'X', 'Y', 'Z']\n",
    "    ans = ''\n",
    "    while (numeric_value!= 0):\n",
    "        ans += alfabetic[numeric_value % 26]\n",
    "        numeric_value //= 26\n",
    "    return ans[::-1]"
   ]
  },
  {
   "cell_type": "code",
   "execution_count": null,
   "metadata": {},
   "outputs": [],
   "source": [
    "data['x'] = embeddings['x']\n",
    "data['y'] = embeddings['y']\n",
    "data['cluster'] = data['cluster'].apply(name_clusters)\n",
    "data['body'] = comments"
   ]
  },
  {
   "cell_type": "code",
   "execution_count": null,
   "metadata": {},
   "outputs": [],
   "source": [
    "fig = px.scatter(data, x='x', y='y', \n",
    "                 color='cluster', \n",
    "                 template='plotly_dark', \n",
    "                 height=800, \n",
    "                 title = \"k-means after t-SNE, from scratch\")\n",
    "fig.show()\n"
   ]
  },
  {
   "cell_type": "code",
   "execution_count": null,
   "metadata": {},
   "outputs": [],
   "source": [
    "points = [[data['x'][i], data['y'][i]] for i in range(len(data))]\n",
    "kdata = data.copy()\n",
    "kmeans = KMeans(n_clusters=20, random_state=0, n_init=\"auto\").fit(points)\n",
    "\n",
    "kdata[\"cluster\"] = [int(x) for x in kmeans.labels_]\n",
    "kdata['cluster'] = kdata['cluster'].apply(name_clusters)"
   ]
  },
  {
   "cell_type": "code",
   "execution_count": null,
   "metadata": {},
   "outputs": [],
   "source": [
    "fig_2  = px.scatter(kdata, x='x', y='y', \n",
    "                    color='cluster', \n",
    "                    template='plotly_dark',\n",
    "                    height=800,\n",
    "                    title = \"k-means after t-SNE, from sklearn\")\n",
    "fig_2.show()"
   ]
  }
 ],
 "metadata": {
  "kernelspec": {
   "display_name": "env",
   "language": "python",
   "name": "python3"
  },
  "language_info": {
   "codemirror_mode": {
    "name": "ipython",
    "version": 3
   },
   "file_extension": ".py",
   "mimetype": "text/x-python",
   "name": "python",
   "nbconvert_exporter": "python",
   "pygments_lexer": "ipython3",
   "version": "3.12.3"
  }
 },
 "nbformat": 4,
 "nbformat_minor": 2
}
