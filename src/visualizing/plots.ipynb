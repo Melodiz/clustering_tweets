{
 "cells": [
  {
   "cell_type": "code",
   "execution_count": null,
   "metadata": {},
   "outputs": [],
   "source": [
    "import numpy as np\n",
    "import pandas as pd\n",
    "import plotly.express as px\n",
    "import json"
   ]
  },
  {
   "cell_type": "code",
   "execution_count": null,
   "metadata": {},
   "outputs": [],
   "source": [
    "pointsCoordinates = pd.read_csv('../../data/t-SNE_projected.csv')\n",
    "with open(\"../../data/names.json\") as json_file:\n",
    "    clusterNames = json.load(json_file)\n",
    "ClusterIds = pd.read_csv(\"../../data/rowClustered.csv\")\n",
    "Comments = pd.read_csv(\"../../data/big_data/the-reddit-climate-change-dataset-comments.csv\", nrows=500_000)"
   ]
  },
  {
   "cell_type": "code",
   "execution_count": null,
   "metadata": {},
   "outputs": [],
   "source": [
    "result = pd.concat([pointsCoordinates, ClusterIds], axis=1).drop('Unnamed: 0', axis=1)\n",
    "# apply cluster names\n",
    "result['cluster_id'] = result['cluster_id'].apply(lambda x: clusterNames[str(x)])\n",
    "result['body'] = Comments['body']\n",
    "result.rename(columns={'cluster_id': 'cluster_name'}, inplace=True)\n",
    "del(Comments)\n",
    "del(pointsCoordinates)\n",
    "\n"
   ]
  },
  {
   "cell_type": "code",
   "execution_count": null,
   "metadata": {},
   "outputs": [],
   "source": [
    "n = 10_000\n",
    "fig = px.scatter(result.head(n), x='x', y = 'y', color='cluster_name', \n",
    "                hover_name='cluster_name', \n",
    "                 title = f\"Clustered Reddit Comments on Climate Topics (t-SNE Projection {n} points shown)\",\n",
    "                 template = \"plotly_dark\", width=1265, height=1012,\n",
    "                 )\n",
    "fig.update_traces(marker=dict(size=2.5))\n",
    "fig.update_xaxes(showgrid=False, zeroline=False, showticklabels=False)\n",
    "fig.update_yaxes(showgrid=False, zeroline=False, showticklabels=False)\n",
    "fig.update_layout(xaxis_title=\"\", yaxis_title=\"\")\n",
    "fig.update_layout(\n",
    "    font=dict(family=\"MesloLGS NF, regular\",size=14,))# color=\"#b0aca7\"\n",
    "fig.update_layout(paper_bgcolor = 'rgba(15, 15, 16, 1)', plot_bgcolor = 'rgba(0, 0, 0, 1)')\n",
    "fig.update_layout(title_font_color=\"#c5f0b6\")\n",
    "fig.update_layout(title_font_size=23)\n",
    "fig.update_layout(legend_font_color=\"#b0aca7\")\n",
    "fig.show()"
   ]
  }
 ],
 "metadata": {
  "kernelspec": {
   "display_name": "env",
   "language": "python",
   "name": "python3"
  },
  "language_info": {
   "codemirror_mode": {
    "name": "ipython",
    "version": 3
   },
   "file_extension": ".py",
   "mimetype": "text/x-python",
   "name": "python",
   "nbconvert_exporter": "python",
   "pygments_lexer": "ipython3",
   "version": "3.12.3"
  }
 },
 "nbformat": 4,
 "nbformat_minor": 2
}
