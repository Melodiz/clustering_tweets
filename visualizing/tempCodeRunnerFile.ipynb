data_path = "../data/train_merged.csv"
embeddings_path = "../data/train_embeddings.npy"
data = pd.read_csv(data_path)
embeddings = np.load(embeddings_path, allow_pickle=True)