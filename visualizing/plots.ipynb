{
 "cells": [
  {
   "cell_type": "code",
   "execution_count": null,
   "metadata": {},
   "outputs": [],
   "source": [
    "import numpy as np\n",
    "from sklearn.manifold import TSNE # for t-SNE\n",
    "import pandas as pd\n",
    "import plotly.express as px\n"
   ]
  },
  {
   "cell_type": "code",
   "execution_count": null,
   "metadata": {},
   "outputs": [],
   "source": [
    "data_path = \"../data/train_merged.csv\"\n",
    "embeddings_path = \"../data/train_embeddings.npy\"\n",
    "data = pd.read_csv(data_path)\n",
    "embeddings = np.load(embeddings_path, allow_pickle=True)"
   ]
  },
  {
   "cell_type": "code",
   "execution_count": null,
   "metadata": {},
   "outputs": [],
   "source": [
    "projected_embeddings = TSNE(n_components=2, learning_rate='auto',\n",
    "                   init='random', perplexity=3).fit_transform(embeddings)"
   ]
  },
  {
   "cell_type": "code",
   "execution_count": null,
   "metadata": {},
   "outputs": [],
   "source": [
    "out_file = \"../data/train_embeddings_tsne.csv\"\n",
    "out_df = pd.DataFrame(projected_embeddings, columns=['x', 'y'])\n",
    "out_df.to_csv(out_file, index=False)"
   ]
  },
  {
   "cell_type": "code",
   "execution_count": null,
   "metadata": {},
   "outputs": [],
   "source": [
    "data['x'] = projected_embeddings[:, 0]\n",
    "data['y'] = projected_embeddings[:, 1]\n",
    "fig = px.scatter(data, x=\"x\", y=\"y\", color=\"cluster\")\n",
    "fig.show()"
   ]
  },
  {
   "cell_type": "markdown",
   "metadata": {},
   "source": [
    "# Clustering after t-SNE"
   ]
  },
  {
   "cell_type": "code",
   "execution_count": null,
   "metadata": {},
   "outputs": [],
   "source": [
    "data"
   ]
  },
  {
   "cell_type": "code",
   "execution_count": null,
   "metadata": {},
   "outputs": [],
   "source": [
    "input_path_after_tsne = \"../data/TSNE_train_embeddings_clusters.csv\"\n",
    "input_tsne_path = \"../data/train_embeddings_tsne.csv\"\n",
    "df_tsne_cords = pd.read_csv(input_tsne_path)\n",
    "df_after_tsne = pd.read_csv(input_path_after_tsne)\n",
    "df_after_tsne['body'] = data['body']\n",
    "df_after_tsne['cluster'] = data['cluster']\n",
    "df_after_tsne['x'] = df_tsne_cords['x']\n",
    "df_after_tsne['y'] = df_tsne_cords['y']"
   ]
  },
  {
   "cell_type": "code",
   "execution_count": null,
   "metadata": {},
   "outputs": [],
   "source": [
    "fig = px.scatter(df_after_tsne, x=\"x\", y=\"y\", color=\"cluster\")\n",
    "fig.show()"
   ]
  }
 ],
 "metadata": {
  "kernelspec": {
   "display_name": "env",
   "language": "python",
   "name": "python3"
  },
  "language_info": {
   "codemirror_mode": {
    "name": "ipython",
    "version": 3
   },
   "file_extension": ".py",
   "mimetype": "text/x-python",
   "name": "python",
   "nbconvert_exporter": "python",
   "pygments_lexer": "ipython3",
   "version": "3.12.3"
  }
 },
 "nbformat": 4,
 "nbformat_minor": 2
}
